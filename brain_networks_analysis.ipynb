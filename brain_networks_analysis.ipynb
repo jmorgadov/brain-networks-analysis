{
 "cells": [
  {
   "cell_type": "markdown",
   "metadata": {},
   "source": [
    "# Brain Networks Analysis using Graph Mining Techniques\n",
    "\n",
    "Authors:\n",
    "- Filippo Casagrande\n",
    "- Jorge Morgado\n",
    "- Hamed Aezami"
   ]
  },
  {
   "cell_type": "markdown",
   "metadata": {},
   "source": [
    "First install the necessary packages"
   ]
  },
  {
   "cell_type": "code",
   "execution_count": null,
   "metadata": {},
   "outputs": [],
   "source": [
    "%pip install networkx scikit-learn matplotlib numpy"
   ]
  },
  {
   "cell_type": "markdown",
   "metadata": {},
   "source": [
    "⚠️ Before running this notebook first ensure you have the unzipped `brain_networks` dataset folder in the same directory of this notebook like this:\n",
    "\n",
    "```text\n",
    ".\n",
    "├── brain_networks_analysis.ipynb\n",
    "└── brain_networks\n",
    "    ├── movie\n",
    "    │   ├── 1_network_7networks.txt\n",
    "    .   .   ...\n",
    "    |   └── 248_network_7networks.txt\n",
    "    └── story\n",
    "        ├── 1_network_7networks.txt\n",
    "        .   ...\n",
    "        └── 248_network_7networks.txt\n",
    "```"
   ]
  },
  {
   "cell_type": "code",
   "execution_count": 2,
   "metadata": {},
   "outputs": [
    {
     "name": "stdout",
     "output_type": "stream",
     "text": [
      "All clear to go!\n"
     ]
    }
   ],
   "source": [
    "# Check if dataset is available and all files are present\n",
    "\n",
    "from pathlib import Path\n",
    "\n",
    "paths = [\n",
    "    \"brain_networks\",\n",
    "    \"brain_networks/movie\",\n",
    "    \"brain_networks/story\",\n",
    "]\n",
    "paths.extend([f\"brain_networks/movie/{i}_network_7networks.txt\" for i in range(1, 249)])\n",
    "paths.extend([f\"brain_networks/story/{i}_network_7networks.txt\" for i in range(1, 249)])\n",
    "\n",
    "for path in paths:\n",
    "    if not Path(path).exists():\n",
    "        raise Exception(f\"Dataset file (or folder) `{path}` not found\")\n",
    "\n",
    "print(\"All clear to go!\")"
   ]
  },
  {
   "cell_type": "markdown",
   "metadata": {},
   "source": [
    "## Importing packages\n",
    "\n",
    "We will use mainly:\n",
    "- `networkx` for graph manipulation\n",
    "- `sklearn` for classification metrics estimation\n",
    "- `matplotlib` for plotting the results"
   ]
  },
  {
   "cell_type": "code",
   "execution_count": 3,
   "metadata": {},
   "outputs": [],
   "source": [
    "import networkx as nx\n",
    "import numpy as np\n",
    "\n",
    "from pathlib import Path\n",
    "from itertools import combinations\n",
    "\n",
    "from sklearn.metrics import (\n",
    "    classification_report,\n",
    "    confusion_matrix,\n",
    "    ConfusionMatrixDisplay,\n",
    ")\n",
    "\n",
    "# For reproducibility\n",
    "SEED = 42\n",
    "\n",
    "\"\"\"List of the 8 temporal graphs for a single subject.\"\"\"\n",
    "SubjectGraphData = list[nx.Graph]"
   ]
  },
  {
   "cell_type": "markdown",
   "metadata": {},
   "source": [
    "## Loading the data\n",
    "\n",
    "We define utility functions that will help us to load and parse the graphs"
   ]
  },
  {
   "cell_type": "code",
   "execution_count": 4,
   "metadata": {},
   "outputs": [],
   "source": [
    "def load_graph_from_txt(file_path: str) -> SubjectGraphData:\n",
    "    \"\"\"\n",
    "    Loads the 8 temporal graphs from a single experiment\n",
    "\n",
    "    Parameters\n",
    "    ----------\n",
    "    file_path : str\n",
    "        Path to the .txt file containing the 8 temporal graphs\n",
    "\n",
    "    Returns\n",
    "    -------\n",
    "    SubjectGraphData\n",
    "        List of the 8 temporal graphs for a single subject\n",
    "    \"\"\"\n",
    "\n",
    "    graphs = [None for _ in range(8)]\n",
    "    data = np.loadtxt(file_path, skiprows=1, dtype=float)\n",
    "    data = data[:, -1]\n",
    "    for i in range(8):\n",
    "        start_idx = i * 10000\n",
    "        end_idx = (i + 1) * 10000\n",
    "        adj_matrix = data[start_idx:end_idx].reshape(100, 100)\n",
    "        for j in range(100):\n",
    "            adj_matrix[j, j] = 0\n",
    "        graphs[i] = nx.from_numpy_array(adj_matrix)\n",
    "    return graphs\n",
    "\n",
    "\n",
    "def load_graphs(folder: str, with_label: str) -> list[SubjectGraphData]:\n",
    "    \"\"\"\n",
    "    Loads all the 248 experiments from a folder\n",
    "\n",
    "    Parameters\n",
    "    ----------\n",
    "    folder : str\n",
    "        Path to the folder containing the experiments\n",
    "    with_label : str\n",
    "        Label to assign to the graphs\n",
    "\n",
    "    Returns\n",
    "    -------\n",
    "    list[SubjectGraphData]\n",
    "        List of the 248 experiments\n",
    "    \"\"\"\n",
    "    graphs = [None] * 248\n",
    "    for file in Path(folder).iterdir():\n",
    "        print(f\"Loading {file}\", end=\"\\r\")\n",
    "        idx = int(file.stem.split(\"_\")[0]) - 1\n",
    "        graphs[idx] = load_graph_from_txt(file)\n",
    "        for G in graphs[idx]:\n",
    "            G.graph[\"label\"] = with_label\n",
    "    assert all(graph is not None for graph in graphs)\n",
    "    return graphs"
   ]
  },
  {
   "cell_type": "markdown",
   "metadata": {},
   "source": [
    "Then, we load all the graphs from each experiment set and label them accordingly"
   ]
  },
  {
   "cell_type": "code",
   "execution_count": 5,
   "metadata": {},
   "outputs": [
    {
     "name": "stdout",
     "output_type": "stream",
     "text": [
      "Loading brain_networks/story/82_network_7networks.txtt\r"
     ]
    }
   ],
   "source": [
    "m_graphs = load_graphs(\"./brain_networks/movie\", with_label=\"movie\")\n",
    "s_graphs = load_graphs(\"./brain_networks/story\", with_label=\"story\")\n",
    "\n",
    "graphs = m_graphs + s_graphs"
   ]
  },
  {
   "cell_type": "markdown",
   "metadata": {},
   "source": [
    "## Splitting the data\n"
   ]
  },
  {
   "cell_type": "markdown",
   "metadata": {},
   "source": [
    "First, let us define some utility functions"
   ]
  },
  {
   "cell_type": "code",
   "execution_count": 6,
   "metadata": {},
   "outputs": [],
   "source": [
    "def split_by_label(\n",
    "    graphs: list[SubjectGraphData],\n",
    ") -> tuple[list[SubjectGraphData], list[SubjectGraphData]]:\n",
    "    \"\"\"\n",
    "    Takes a list of subjects experiments and splits by labels (movie or story)\n",
    "\n",
    "    Parameters\n",
    "    ----------\n",
    "    graphs : list[SubjectGraphData]\n",
    "        List of experiments\n",
    "\n",
    "    Returns\n",
    "    -------\n",
    "    tuple[list[SubjectGraphData], list[SubjectGraphData]]\n",
    "        Tuple containing the subjects experiments split by label. First element\n",
    "        is movie, second is story\n",
    "    \"\"\"\n",
    "    movie, story = [], []\n",
    "    for t_graphs in graphs:\n",
    "        if t_graphs[0].graph[\"label\"] == \"movie\":\n",
    "            movie.append(t_graphs)\n",
    "        else:\n",
    "            story.append(t_graphs)\n",
    "    return movie, story"
   ]
  },
  {
   "cell_type": "markdown",
   "metadata": {},
   "source": [
    "The next function will be used to split the dataset (similar to the `train_test_split` function from sklearn)"
   ]
  },
  {
   "cell_type": "code",
   "execution_count": 7,
   "metadata": {},
   "outputs": [],
   "source": [
    "def train_test_split(\n",
    "    graphs: list[SubjectGraphData], train_size: float = 0.7, seed=None\n",
    ") -> tuple[list[SubjectGraphData], list[str], list[SubjectGraphData], list[str]]:\n",
    "    \"\"\"\n",
    "    Splits the subjects experiments randomly into train and test sets.\n",
    "\n",
    "    Parameters\n",
    "    ----------\n",
    "    graphs : list[SubjectGraphData]\n",
    "        List of experiments\n",
    "    train_size : float\n",
    "        Percentage of the experiments to use for training. Default is 0.7\n",
    "    seed : int\n",
    "        Seed for reproducibility\n",
    "\n",
    "    Returns\n",
    "    -------\n",
    "    tuple[list[SubjectGraphData], list[str], list[SubjectGraphData], list[str]]\n",
    "        Tuple containing the train and test sets and their respective labels.\n",
    "        (train, train_labels, test, test_labels)\n",
    "    \"\"\"\n",
    "    if seed is not None:\n",
    "        np.random.seed(seed)\n",
    "\n",
    "    np.random.shuffle(graphs)\n",
    "    mov, sto = split_by_label(graphs)\n",
    "\n",
    "    m_train_idx = int(len(mov) * train_size)\n",
    "    s_train_idx = int(len(sto) * train_size)\n",
    "\n",
    "    train = mov[:m_train_idx] + sto[:s_train_idx]\n",
    "    test = mov[m_train_idx:] + sto[s_train_idx:]\n",
    "\n",
    "    np.random.shuffle(train)\n",
    "    np.random.shuffle(test)\n",
    "\n",
    "    return (\n",
    "        train,\n",
    "        [t_graphs[0].graph[\"label\"] for t_graphs in train],\n",
    "        test,\n",
    "        [t_graphs[0].graph[\"label\"] for t_graphs in test],\n",
    "    )"
   ]
  },
  {
   "cell_type": "markdown",
   "metadata": {},
   "source": [
    "Next, we split the dataset in train and test subsets"
   ]
  },
  {
   "cell_type": "code",
   "execution_count": 8,
   "metadata": {},
   "outputs": [],
   "source": [
    "X_train, y_train, X_test, y_test = train_test_split(graphs, seed=SEED)"
   ]
  },
  {
   "cell_type": "markdown",
   "metadata": {},
   "source": [
    "## Classification according community detection\n",
    "\n",
    "The classification algorithm we propose is based on community detection analysis.\n",
    "\n",
    "Let $D$ be the set of experiments (8 graphs each), $L_i$ be the label of the $i$-th experiment (either movie or story), and $G_j^i$ be the graph of the $j$-th time stamp of the $i$-th experiment. For each graph on every time stamp on all the experiments we run a community detection algorithm, and then, for each experiment label, we build 8 graphs $A_1, ..., A_8$. Next we explain how each $A_k$ is built.\n",
    "\n",
    "Each graph $A_k^m$ (and $A_k^s$ for the story experiments) contains 100 vertices (just as the dataset graphs). The value of each edge is defined as:\n",
    "\n",
    "\\begin{equation}\n",
    "w(u,v) = \\frac{\\sum_{i=0}^{|D|} comm_k^i(u, v)}{|D|}\n",
    "\\end{equation}\n",
    "\n",
    "where $|D|$ is the size of the dataset and $comm_k^i(u, v)$ is 1 if the vertices $u$ and $v$ belong to the same comunity in the $i$-th experiment at the $k$-th time stamp (0 if they were not in the same comunity).\n",
    "\n",
    "Intuitivly, each $A_k$ edge contains the information of how likely are two nodes to be in the same comunity at the time $k$.\n",
    "\n",
    "For classifying an unseen experiment, we run the same community detection algorithm for each time stamp graph $G_j$. Then, for each $G_j$ we sum the weights of the edges $(u, v)$ in each $A_j^m$ and $A_j^s$ if $u$ and $v$ were in the same community on $G_j$. Finally, we sum all the values of all the time stamps for each label, and depending on what was the label with the highest total value we classify the experiment accordingly."
   ]
  },
  {
   "cell_type": "markdown",
   "metadata": {},
   "source": [
    "The next function builds a graph $A_k^x$ given a set of graphs"
   ]
  },
  {
   "cell_type": "code",
   "execution_count": 9,
   "metadata": {},
   "outputs": [],
   "source": [
    "def build_avg_community_graph(graphs: list[nx.Graph]) -> nx.Graph:\n",
    "    \"\"\"\n",
    "    Build a graph where the weight of an edge is the average number of times\n",
    "    (normalized) two nodes have been in the same community in the given graphs.\n",
    "\n",
    "    Parameters\n",
    "    ----------\n",
    "    graphs : list[nx.Graph]\n",
    "        List of graphs to analyze\n",
    "\n",
    "    Returns\n",
    "    -------\n",
    "    nx.Graph\n",
    "        Estimated graph\n",
    "    \"\"\"\n",
    "    adj_matrix = np.zeros((100, 100), dtype=float)\n",
    "    for i, G in enumerate(graphs):\n",
    "        print(f\"Analyzing graph {i + 1} of {len(graphs)}        \", end=\"\\r\")\n",
    "        communities = nx.community.greedy_modularity_communities(G, weight=\"weight\")\n",
    "        for community in communities:\n",
    "            for u, v in combinations(community, 2):\n",
    "                adj_matrix[u][v] += 1\n",
    "                adj_matrix[v][u] += 1\n",
    "\n",
    "    adj_matrix /= len(graphs)\n",
    "    return nx.from_numpy_array(adj_matrix)"
   ]
  },
  {
   "cell_type": "markdown",
   "metadata": {},
   "source": [
    "We then split the train set by the lables"
   ]
  },
  {
   "cell_type": "code",
   "execution_count": 10,
   "metadata": {},
   "outputs": [
    {
     "name": "stdout",
     "output_type": "stream",
     "text": [
      "Analyzing graph 173 of 173        \r"
     ]
    }
   ],
   "source": [
    "# Separate the graphs by label\n",
    "X_train_movie, X_train_story = split_by_label(X_train)\n",
    "\n",
    "# Estimate the average community graphs (one per time step) for the movies\n",
    "# experiments\n",
    "avg_movie_graphs = [\n",
    "    build_avg_community_graph(\n",
    "        [t_graphs[t] for t_graphs in X_train_movie]\n",
    "    )\n",
    "    for t in range(8)\n",
    "]\n",
    "\n",
    "# Estimate the average community graphs (one per time step) for the story\n",
    "avg_story_graphs = [\n",
    "    build_avg_community_graph(\n",
    "        [t_graphs[t] for t_graphs in X_train_story]\n",
    "    )\n",
    "    for t in range(8)\n",
    "]"
   ]
  },
  {
   "cell_type": "markdown",
   "metadata": {},
   "source": [
    "The next function takes a new experiment and all the graphs $A_k^m$ and $A_k^s$ and makes a prediction of the experiment"
   ]
  },
  {
   "cell_type": "code",
   "execution_count": 11,
   "metadata": {},
   "outputs": [],
   "source": [
    "def predict(\n",
    "    t_graphs: SubjectGraphData, movie_t_avg: list[nx.Graph], story_t_avg: list[nx.Graph]\n",
    ") -> str:\n",
    "    \"\"\"\n",
    "    Predicts the subject stimuli (movie or story)\n",
    "\n",
    "    The prediction is done by comparing the communities of the graphs at each time step\n",
    "    with their corresponding average community graph for both movie and story.\n",
    "\n",
    "    Parameters\n",
    "    ----------\n",
    "    t_graphs : SubjectGraphData\n",
    "        List of the 8 temporal graphs for a single subject\n",
    "    movie_t_avg : list[nx.Graph]\n",
    "        List of the 8 average community graphs for the movie experiments\n",
    "    story_t_avg : list[nx.Graph]\n",
    "        List of the 8 average community graphs for the story experiments\n",
    "\n",
    "    Returns\n",
    "    -------\n",
    "    str\n",
    "        The predicted stimuli (movie or story)\n",
    "    \"\"\"\n",
    "    movie_score = 0\n",
    "    story_score = 0\n",
    "\n",
    "    for t, G in enumerate(t_graphs[:4]):\n",
    "        communities = nx.community.greedy_modularity_communities(G, weight=\"weight\")\n",
    "        for community in communities:\n",
    "            for u, v in combinations(community, 2):\n",
    "                movie_score += movie_t_avg[t].edges[u, v][\"weight\"]\n",
    "                story_score += story_t_avg[t].edges[u, v][\"weight\"]\n",
    "\n",
    "    return \"movie\" if movie_score > story_score else \"story\""
   ]
  },
  {
   "cell_type": "markdown",
   "metadata": {},
   "source": [
    "We then proceed to predict the label of all the experiments in the test set"
   ]
  },
  {
   "cell_type": "code",
   "execution_count": 12,
   "metadata": {},
   "outputs": [],
   "source": [
    "y_pred, y_true = [], []\n",
    "\n",
    "for t_graphs, label in zip(X_test, y_test):\n",
    "    y_pred.append(\n",
    "        predict(\n",
    "            t_graphs,\n",
    "            avg_movie_graphs,\n",
    "            avg_story_graphs,\n",
    "        )\n",
    "    )\n",
    "    y_true.append(label)"
   ]
  },
  {
   "cell_type": "markdown",
   "metadata": {},
   "source": [
    "### Results report"
   ]
  },
  {
   "cell_type": "code",
   "execution_count": 13,
   "metadata": {},
   "outputs": [
    {
     "name": "stdout",
     "output_type": "stream",
     "text": [
      "              precision    recall  f1-score   support\n",
      "\n",
      "       movie       0.87      0.87      0.87        75\n",
      "       story       0.87      0.87      0.87        75\n",
      "\n",
      "    accuracy                           0.87       150\n",
      "   macro avg       0.87      0.87      0.87       150\n",
      "weighted avg       0.87      0.87      0.87       150\n",
      "\n"
     ]
    }
   ],
   "source": [
    "print(classification_report(y_true, y_pred))"
   ]
  },
  {
   "cell_type": "code",
   "execution_count": 14,
   "metadata": {},
   "outputs": [
    {
     "data": {
      "image/png": "[encoded data removed]",
      "text/plain": [
       "<Figure size 640x480 with 2 Axes>"
      ]
     },
     "metadata": {},
     "output_type": "display_data"
    }
   ],
   "source": [
    "disp = ConfusionMatrixDisplay(confusion_matrix(y_true, y_pred), display_labels=[\"movie\", \"story\"])\n",
    "disp.plot()"
   ]
  },
  {
   "cell_type": "markdown",
   "metadata": {},
   "source": [
    "As we can see from the F1-score value, and the confusion matrix, by only leveraging a community detection algorithm we can obtain very good results predicting the subjects stimuli"
   ]
  }
 ],
 "metadata": {
  "kernelspec": {
   "display_name": "Python 3",
   "language": "python",
   "name": "python3"
  },
  "language_info": {
   "codemirror_mode": {
    "name": "ipython",
    "version": 3
   },
   "file_extension": ".py",
   "mimetype": "text/x-python",
   "name": "python",
   "nbconvert_exporter": "python",
   "pygments_lexer": "ipython3",
   "version": "3.10.14"
  }
 },
 "nbformat": 4,
 "nbformat_minor": 2
}
