{
 "cells": [
  {
   "cell_type": "markdown",
   "metadata": {},
   "source": [
    "# Graph Mining - Final Project\n",
    "\n",
    "Authors:\n",
    "- Filippo Casagrande\n",
    "- Jorge Morgado\n",
    "- Hamed Aezami"
   ]
  },
  {
   "cell_type": "markdown",
   "metadata": {},
   "source": [
    "## Importing necessary packages\n",
    "\n",
    "We will use mainly:\n",
    "- `networkx` for graph manipulation\n",
    "- `sklearn` for classification metrics estimation\n",
    "- `matplotlib` for plotting the results"
   ]
  },
  {
   "cell_type": "code",
   "execution_count": 35,
   "metadata": {},
   "outputs": [],
   "source": [
    "import networkx as nx\n",
    "import numpy as np\n",
    "\n",
    "from pathlib import Path\n",
    "from itertools import combinations\n",
    "\n",
    "from sklearn.metrics import (\n",
    "    classification_report,\n",
    "    confusion_matrix,\n",
    "    ConfusionMatrixDisplay,\n",
    ")\n",
    "\n",
    "import matplotlib.pyplot as plt\n",
    "\n",
    "SEED = 42"
   ]
  },
  {
   "cell_type": "markdown",
   "metadata": {},
   "source": [
    "## Loading the data\n",
    "\n",
    "We define utility functions that will help us to load and parse the graphs"
   ]
  },
  {
   "cell_type": "code",
   "execution_count": 2,
   "metadata": {},
   "outputs": [],
   "source": [
    "def load_graph_from_txt(file_path: str) -> list[nx.Graph]:\n",
    "    graphs = [None for _ in range(8)]\n",
    "    data = np.loadtxt(file_path, skiprows=1, dtype=float)\n",
    "    data = data[:, -1]\n",
    "    for i in range(8):\n",
    "        start_idx = i * 10000\n",
    "        end_idx = (i + 1) * 10000\n",
    "        adj_matrix = data[start_idx : end_idx].reshape(100, 100)\n",
    "        for j in range(100):\n",
    "            adj_matrix[j, j] = 0\n",
    "        graphs[i] = nx.from_numpy_array(adj_matrix)\n",
    "    return graphs\n",
    "\n",
    "\n",
    "def load_graphs(folder: Path) -> list[list[nx.Graph]]:\n",
    "    graphs = [None] * 248\n",
    "    for file in folder.iterdir():\n",
    "        print(f\"Loading {file}\", end=\"\\r\")\n",
    "        idx = int(file.stem.split(\"_\")[0]) - 1\n",
    "        graphs[idx] = load_graph_from_txt(file)\n",
    "    assert all(graph is not None for graph in graphs)\n",
    "    return graphs"
   ]
  },
  {
   "cell_type": "markdown",
   "metadata": {},
   "source": [
    "Then, we load all the graphs from each experiment set and label them accordingly"
   ]
  },
  {
   "cell_type": "code",
   "execution_count": 3,
   "metadata": {},
   "outputs": [
    {
     "name": "stdout",
     "output_type": "stream",
     "text": [
      "Loading brain_networks/story/82_network_7networks.txtt\r"
     ]
    }
   ],
   "source": [
    "m_graphs = load_graphs(Path(\"./brain_networks/movie\"))\n",
    "s_graphs = load_graphs(Path(\"./brain_networks/story\"))"
   ]
  },
  {
   "cell_type": "code",
   "execution_count": 4,
   "metadata": {},
   "outputs": [],
   "source": [
    "for graphs in m_graphs:\n",
    "    for G in graphs:\n",
    "        G.graph[\"label\"] = \"movie\"\n",
    "\n",
    "for graphs in s_graphs:\n",
    "    for G in graphs:\n",
    "        G.graph[\"label\"] = \"story\"\n",
    "\n",
    "graphs = m_graphs + s_graphs"
   ]
  },
  {
   "cell_type": "markdown",
   "metadata": {},
   "source": [
    "## Splitting the data\n",
    "\n",
    "The next function will be used to split the dataset (similar to the `train_test_split` function from sklearn)"
   ]
  },
  {
   "cell_type": "code",
   "execution_count": 17,
   "metadata": {},
   "outputs": [],
   "source": [
    "def train_test_split(\n",
    "    graphs: list[list[nx.Graph]], train_size: float = 0.8, seed=None\n",
    ") -> tuple[list[nx.Graph], list[str], list[nx.Graph], list[str]]:\n",
    "    if seed is not None:\n",
    "        np.random.seed(seed)\n",
    "    np.random.shuffle(graphs)\n",
    "    train_idx = int(len(graphs) * train_size)\n",
    "    return (\n",
    "        graphs[:train_idx],\n",
    "        [t_graphs[0].graph[\"label\"] for t_graphs in graphs[:train_idx]],\n",
    "        graphs[train_idx:],\n",
    "        [t_graphs[0].graph[\"label\"] for t_graphs in graphs[train_idx:]],\n",
    "    )"
   ]
  },
  {
   "cell_type": "markdown",
   "metadata": {},
   "source": [
    "Next, we split the dataset in train and test subsets"
   ]
  },
  {
   "cell_type": "code",
   "execution_count": 6,
   "metadata": {},
   "outputs": [],
   "source": [
    "X_train, y_train, X_test, y_test = train_test_split(graphs, seed=SEED)"
   ]
  },
  {
   "cell_type": "code",
   "execution_count": 18,
   "metadata": {},
   "outputs": [],
   "source": [
    "def split_by_label(graphs: list[list[nx.Graph]]) -> tuple[list[list[nx.Graph]], list[list[nx.Graph]]]:\n",
    "    movie, story = [], []\n",
    "    for t_graphs in graphs:\n",
    "        if t_graphs[0].graph[\"label\"] == \"movie\":\n",
    "            movie.append(t_graphs)\n",
    "        else:\n",
    "            story.append(t_graphs)\n",
    "    return movie, story\n",
    "\n",
    "def get_graphs_at_time(graphs: list[list[nx.Graph]], time: int) -> list[nx.Graph]:\n",
    "    return [t_graphs[time] for t_graphs in graphs]"
   ]
  },
  {
   "cell_type": "markdown",
   "metadata": {},
   "source": [
    "## Classification according community detection\n",
    "\n",
    "The classification algorithm we propose is based on community detection analysis.\n",
    "\n",
    "Let $D$ be the set of experiments (8 graphs each), $L_i$ be the label of the $i$-th experiment (either movie or story), and $G_j^i$ be the graph of the $j$-th time stamp of the $i$-th experiment. For each graph on every time stamp on all the experiments we run a community detection algorithm, and then, for each experiment label, we build 8 graphs $A_1, ..., A_8$. Next we explain how each $A_k$ is built.\n",
    "\n",
    "Each graph $A_k^m$ (and $A_k^s$ for the story experiments) contains 100 vertices (just as the dataset graphs). The value of each edge is defined as:\n",
    "\n",
    "\\begin{equation}\n",
    "w(u,v) = \\frac{\\sum_{i=0}^{|D|} comm_k^i(u, v)}{|D|}\n",
    "\\end{equation}\n",
    "\n",
    "where $|D|$ is the size of the dataset and $comm_k^i(u, v)$ is 1 if the edge $(u,v)$ if the vertices $u$ and $v$ belong to the same comunity in the $i$-th experiment at the $k$-th time stamp (0 if they were not in the same comunity).\n",
    "\n",
    "Intuitivly, each $A_k$ edge contains the information of how likely are two nodes to be in the same comunity at the time $k$.\n",
    "\n",
    "For classifying an unseen experiment, we run the same community detection algorithm for each time stamp graph $G_j$. Then, for each $G_j$ we sum the weights of the edges $(u, v)$ in each $A_j^m$ and $A_j^s$ if $u$ and $v$ were in the same community on $G_j$. Finally, we sum all the values of all the time stamps for each label, and depending on what was the label with the highest total value we classify the experiment accordingly."
   ]
  },
  {
   "cell_type": "markdown",
   "metadata": {},
   "source": [
    "The next function builds a graph $A_k^x$ given a set of graphs"
   ]
  },
  {
   "cell_type": "code",
   "execution_count": 22,
   "metadata": {},
   "outputs": [],
   "source": [
    "def build_avg_community_graph(graphs: list[nx.Graph]) -> nx.Graph:\n",
    "    adj_matrix = np.zeros((100, 100), dtype=float)\n",
    "    for i, G in enumerate(graphs):\n",
    "        print(f\"Analyzing graph {i + 1} of {len(graphs)}        \", end=\"\\r\")\n",
    "        communities = nx.community.greedy_modularity_communities(G, weight=\"weight\")\n",
    "        for community in communities:\n",
    "            for u, v in combinations(community, 2):\n",
    "                adj_matrix[u][v] += 1\n",
    "                adj_matrix[v][u] += 1\n",
    "\n",
    "    adj_matrix /= len(graphs)\n",
    "    return nx.from_numpy_array(adj_matrix)"
   ]
  },
  {
   "cell_type": "markdown",
   "metadata": {},
   "source": [
    "We then split the train set by the lables"
   ]
  },
  {
   "cell_type": "code",
   "execution_count": 23,
   "metadata": {},
   "outputs": [
    {
     "name": "stdout",
     "output_type": "stream",
     "text": [
      "Analyzing graph 194 of 194        \r"
     ]
    }
   ],
   "source": [
    "X_train_movie, X_train_story = split_by_label(X_train)\n",
    "\n",
    "avg_movie_graphs = [\n",
    "    build_avg_community_graph(\n",
    "        [t_graphs[t] for t_graphs in X_train_movie]\n",
    "    )\n",
    "    for t in range(8)\n",
    "]\n",
    "\n",
    "avg_story_graphs = [\n",
    "    build_avg_community_graph(\n",
    "        [t_graphs[t] for t_graphs in X_train_story]\n",
    "    )\n",
    "    for t in range(8)\n",
    "]"
   ]
  },
  {
   "cell_type": "markdown",
   "metadata": {},
   "source": [
    "The next function takes a new experiment and all the graphs $A_k^m$ and $A_k^s$ and makes a prediction of the experiment"
   ]
  },
  {
   "cell_type": "code",
   "execution_count": 57,
   "metadata": {},
   "outputs": [],
   "source": [
    "def predict(\n",
    "    t_graphs: list[nx.Graph], movie_t_avg: list[nx.Graph], story_t_avg: list[nx.Graph]\n",
    ") -> str:\n",
    "    movie_score = 0\n",
    "    story_score = 0\n",
    "\n",
    "    for t, G in enumerate(t_graphs[:4]):\n",
    "        communities = nx.community.greedy_modularity_communities(G, weight=\"weight\")\n",
    "        for community in communities:\n",
    "            for u, v in combinations(community, 2):\n",
    "                movie_score += movie_t_avg[t].edges[u, v][\"weight\"]\n",
    "                story_score += story_t_avg[t].edges[u, v][\"weight\"]\n",
    "\n",
    "    return \"movie\" if movie_score > story_score else \"story\""
   ]
  },
  {
   "cell_type": "markdown",
   "metadata": {},
   "source": [
    "We then proceed to predict the label of all the experiments in the test set"
   ]
  },
  {
   "cell_type": "code",
   "execution_count": 58,
   "metadata": {},
   "outputs": [],
   "source": [
    "y_pred, y_true = [], []\n",
    "\n",
    "for t_graphs, label in zip(X_test, y_test):\n",
    "    y_pred.append(\n",
    "        predict(\n",
    "            t_graphs,\n",
    "            avg_movie_graphs,\n",
    "            avg_story_graphs,\n",
    "        )\n",
    "    )\n",
    "    y_true.append(label)"
   ]
  },
  {
   "cell_type": "markdown",
   "metadata": {},
   "source": [
    "### Results report"
   ]
  },
  {
   "cell_type": "code",
   "execution_count": 59,
   "metadata": {},
   "outputs": [
    {
     "name": "stdout",
     "output_type": "stream",
     "text": [
      "              precision    recall  f1-score   support\n",
      "\n",
      "       movie       0.89      0.87      0.88        46\n",
      "       story       0.89      0.91      0.90        54\n",
      "\n",
      "    accuracy                           0.89       100\n",
      "   macro avg       0.89      0.89      0.89       100\n",
      "weighted avg       0.89      0.89      0.89       100\n",
      "\n"
     ]
    }
   ],
   "source": [
    "print(classification_report(y_true, y_pred))"
   ]
  },
  {
   "cell_type": "code",
   "execution_count": 60,
   "metadata": {},
   "outputs": [
    {
     "data": {
      "image/png": "[encoded data removed]",
      "text/plain": [
       "<Figure size 640x480 with 2 Axes>"
      ]
     },
     "metadata": {},
     "output_type": "display_data"
    }
   ],
   "source": [
    "disp = ConfusionMatrixDisplay(confusion_matrix(y_true, y_pred), display_labels=[\"movie\", \"story\"])\n",
    "disp.plot()\n",
    "plt.show()"
   ]
  },
  {
   "cell_type": "markdown",
   "metadata": {},
   "source": [
    "As we can see from the F1-score value, and the confusion matrix, by only leveraging a community detection algorithm we can obtain very good results predicting the type of the experiment."
   ]
  }
 ],
 "metadata": {
  "kernelspec": {
   "display_name": "Python 3",
   "language": "python",
   "name": "python3"
  },
  "language_info": {
   "codemirror_mode": {
    "name": "ipython",
    "version": 3
   },
   "file_extension": ".py",
   "mimetype": "text/x-python",
   "name": "python",
   "nbconvert_exporter": "python",
   "pygments_lexer": "ipython3",
   "version": "3.10.14"
  }
 },
 "nbformat": 4,
 "nbformat_minor": 2
}
